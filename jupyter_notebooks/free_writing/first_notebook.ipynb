{
 "cells": [
  {
   "cell_type": "code",
   "execution_count": 34,
   "metadata": {},
   "outputs": [
    {
     "name": "stdout",
     "output_type": "stream",
     "text": [
      "7\n"
     ]
    }
   ],
   "source": [
    "# #최대공약수\n",
    "# gcd =\n",
    "# #최소공배수\n",
    "# lcm = \n",
    "\n",
    "#최대공약수 1\n",
    "num1 = 35\n",
    "num2 = 14\n",
    "yaksu=0\n",
    "number=[]\n",
    "while  yaksu != min(num1,num2):\n",
    "    yaksu= yaksu + 1\n",
    "    number.append(yaksu)\n",
    "\n",
    "cd1=[]\n",
    "cd2=[]\n",
    "assemblecd=[]\n",
    "for i in number:\n",
    "    if num1 % i ==0:\n",
    "        cd1.append(i)\n",
    "for i in number:\n",
    "    if num2 % i == 0:\n",
    "        cd2.append(i)\n",
    "        \n",
    "for i in cd1:\n",
    "    if i in cd2 :\n",
    "        assemblecd.append(i)\n",
    "gcd= max (assemblecd)\n",
    "print (gcd)    "
   ]
  },
  {
   "cell_type": "code",
   "execution_count": null,
   "metadata": {},
   "outputs": [],
   "source": [
    "print (cd1)\n",
    "print (cd2)"
   ]
  },
  {
   "cell_type": "code",
   "execution_count": null,
   "metadata": {},
   "outputs": [],
   "source": [
    "yaksu=0\n",
    "number=[]\n",
    "while  yaksu != 100:\n",
    "    yaksu= yaksu + 1\n",
    "    number.append(yaksu)\n",
    "print (number)"
   ]
  },
  {
   "cell_type": "code",
   "execution_count": null,
   "metadata": {},
   "outputs": [],
   "source": [
    "#최대공약수 2\n",
    "num1 = 21\n",
    "num2 = 14\n",
    "numbers = [num1] + [num2]\n",
    "a= min (numbers)\n",
    "cd=[]\n",
    "n=1\n",
    "while n<= a:\n",
    "    if num1 % n ==0 and num2 % n ==0:\n",
    "        cd.append(n)\n",
    "        n=n+1\n",
    "    else:\n",
    "        n=n+1\n",
    "print (max (cd))\n",
    "    "
   ]
  },
  {
   "cell_type": "code",
   "execution_count": null,
   "metadata": {},
   "outputs": [],
   "source": [
    "num1 = 124\n",
    "num2 = 38\n",
    "min (num1,num2)"
   ]
  },
  {
   "cell_type": "code",
   "execution_count": 37,
   "metadata": {
    "scrolled": true
   },
   "outputs": [
    {
     "name": "stdout",
     "output_type": "stream",
     "text": [
      "[2, 2, 5] [2, 2, 7]\n",
      "{2, 5, 7}\n"
     ]
    }
   ],
   "source": [
    "#최소 공배수\n",
    "\n",
    "num1 = 20\n",
    "tem=num1\n",
    "num2 = 28\n",
    "\n",
    "n1=2\n",
    "n2=2\n",
    "number1=[]\n",
    "number2=[]\n",
    "# while  n1 <= min(num1,num2): \n",
    "#num1이 작아져서 나중에 에러가남\n",
    "while n1<= min (tem, num2):\n",
    "    if tem % n1 ==0:\n",
    "        tem=tem/n1\n",
    "        number1.append(n1)\n",
    "    else : \n",
    "        n1 += 1\n",
    "\n",
    "while  n2 <= min(num1,num2):\n",
    "    if num2 % n2 ==0:\n",
    "        num2=num2/n2\n",
    "        number2.append(n2)\n",
    "    else : \n",
    "        n2 += 1\n",
    "  \n",
    "print (number1, number2)\n",
    "numbers= number1 +number2 \n",
    "print (set(numbers))\n",
    "\n",
    "\n",
    "# lcm=1\n",
    "# for i in work2:\n",
    "#     lcm=i*lcm\n",
    "# print (lcm)    \n",
    "\n",
    "# for i in number:\n",
    "#     if num1 % i ==0:\n",
    "#         cd1.append(i)\n",
    "# for i in number:\n",
    "#     if num2 % i == 0:\n",
    "#         cd2.append(i)\n",
    "        \n",
    "# for i in cd1:\n",
    "#     if i in cd2 :\n",
    "#         assemblecd.append(i)\n",
    "# gcd= max (assemblecd)\n",
    "# print (gcd)    \n"
   ]
  },
  {
   "cell_type": "code",
   "execution_count": null,
   "metadata": {},
   "outputs": [],
   "source": [
    "15 21\n",
    "\n",
    "3 5\n",
    "3 7\n",
    "union 3 3 5 7\n",
    "intersect 3\n",
    "3 5 7\n",
    "105\n"
   ]
  }
 ],
 "metadata": {
  "kernelspec": {
   "display_name": "Python 3",
   "language": "python",
   "name": "python3"
  },
  "language_info": {
   "codemirror_mode": {
    "name": "ipython",
    "version": 3
   },
   "file_extension": ".py",
   "mimetype": "text/x-python",
   "name": "python",
   "nbconvert_exporter": "python",
   "pygments_lexer": "ipython3",
   "version": "3.6.7"
  }
 },
 "nbformat": 4,
 "nbformat_minor": 2
}
