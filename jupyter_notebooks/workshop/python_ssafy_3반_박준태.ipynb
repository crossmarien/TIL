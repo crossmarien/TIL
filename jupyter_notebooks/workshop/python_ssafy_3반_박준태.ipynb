{
 "cells": [
  {
   "cell_type": "markdown",
   "metadata": {},
   "source": [
    "# Day1"
   ]
  },
  {
   "cell_type": "code",
   "execution_count": 1,
   "metadata": {},
   "outputs": [
    {
     "name": "stdout",
     "output_type": "stream",
     "text": [
      "*****\n",
      "*****\n",
      "*****\n",
      "*****\n",
      "*****\n",
      "*****\n",
      "*****\n",
      "*****\n",
      "*****\n",
      "\n"
     ]
    }
   ],
   "source": [
    "n=5\n",
    "m=9\n",
    "line = '*' * n + '\\n'\n",
    "print (line*m)\n",
    "\n",
    "# from tkinter import * #<<<중요!\n",
    "# main= Tk()\n",
    "# c= Canvas(main, width=400, height=200)\n",
    "# c.pack()\n",
    "\n",
    "# c.create_rectangle(10,10,60,100) #나 혼자 뭐한거임?"
   ]
  },
  {
   "cell_type": "code",
   "execution_count": 2,
   "metadata": {},
   "outputs": [
    {
     "name": "stdout",
     "output_type": "stream",
     "text": [
      "87.75\n"
     ]
    }
   ],
   "source": [
    "student= {'python':80, 'algorithm':99, 'django':89, 'flask': 83}\n",
    "mean=student[\"python\"],student[\"algorithm\"],student[\"django\"],student[\"flask\"]\n",
    "a=0\n",
    "for i in mean:\n",
    "    a=a+i\n",
    "result = a/4\n",
    "print (result)"
   ]
  },
  {
   "cell_type": "code",
   "execution_count": 1,
   "metadata": {},
   "outputs": [
    {
     "name": "stdout",
     "output_type": "stream",
     "text": [
      "{'A': 3, 'B': 3, 'O': 3, 'AB': 3}\n"
     ]
    }
   ],
   "source": [
    "blood_types = ['A', 'B', 'A', 'O', 'AB', 'AB', 'O', 'A', 'B', 'O', 'B', 'AB']\n",
    "count_a=0\n",
    "count_b=0\n",
    "count_o=0\n",
    "count_ab=0\n",
    "for i in blood_types:\n",
    "    if i=='A':\n",
    "        count_a +=1\n",
    "    elif i=='B':\n",
    "        count_b +=1\n",
    "    elif i=='O':\n",
    "        count_o +=1\n",
    "    else:\n",
    "        count_ab+=1\n",
    "listblood={'A':count_a,'B':count_b,'O':count_o,'AB':count_ab}\n",
    "print (listblood)\n"
   ]
  }
 ],
 "metadata": {
  "kernelspec": {
   "display_name": "Python 3",
   "language": "python",
   "name": "python3"
  },
  "language_info": {
   "codemirror_mode": {
    "name": "ipython",
    "version": 3
   },
   "file_extension": ".py",
   "mimetype": "text/x-python",
   "name": "python",
   "nbconvert_exporter": "python",
   "pygments_lexer": "ipython3",
   "version": "3.6.7"
  }
 },
 "nbformat": 4,
 "nbformat_minor": 2
}
