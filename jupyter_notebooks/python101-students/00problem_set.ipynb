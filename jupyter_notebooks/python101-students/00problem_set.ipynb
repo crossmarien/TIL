{
 "cells": [
  {
   "cell_type": "markdown",
   "metadata": {},
   "source": [
    "#숫자로 구성된 리스트에서 양의 정수의 합을 구하는 함수, ' positive_sum' 을 만들어 보아요\n",
    "\n",
    "예시)\n",
    "positive_sum ([1, -10, 2]) #3\n",
    "positive_sum([-1, -2, -3, -4]) #0"
   ]
  },
  {
   "cell_type": "code",
   "execution_count": 3,
   "metadata": {},
   "outputs": [
    {
     "name": "stdout",
     "output_type": "stream",
     "text": [
      "16\n"
     ]
    },
    {
     "data": {
      "text/plain": [
       "16"
      ]
     },
     "execution_count": 3,
     "metadata": {},
     "output_type": "execute_result"
    }
   ],
   "source": [
    "def positive_sum(*args):\n",
    "    n=0\n",
    "    for i in args:\n",
    "        if i > 0:\n",
    "            n += i\n",
    "    return n\n",
    "\n",
    "def pos_sum(*numbers):\n",
    "    return sum (x for x in numbers if x>0)\n",
    "\n",
    "print (pos_sum(1,-3,5,10,-123))\n",
    "positive_sum(1,-3,5,10,-123)"
   ]
  },
  {
   "cell_type": "markdown",
   "metadata": {},
   "source": [
    "#문자열 탐색\n",
    "문자열 요소로만 이루어진 리스트를 넣었을떄, 문자열의 길이가 2 이상이고 주어진 문자열의 첫 번째와 마지막 문자가 같은 문자열의 수를 세는 함수 ' start_end'를 \n",
    "작성하세요\n",
    "\n",
    "예시\n",
    "start_end(['asdf','adsfa','as','a', 'efe']) #2"
   ]
  },
  {
   "cell_type": "code",
   "execution_count": null,
   "metadata": {},
   "outputs": [],
   "source": [
    "def start_end(words):\n",
    "    count=0\n",
    "    for i in words:\n",
    "        if len(words) > 1 and i[0] == i[-1]:\n",
    "            count +=1\n",
    "    return count\n",
    "\n",
    "start_end (['aba', 'sbs', 'asa', 'asdf','fdf'])\n",
    "    \n",
    "    \n"
   ]
  },
  {
   "cell_type": "markdown",
   "metadata": {},
   "source": [
    "collatz 의 추측 어떤 숫자던 다음 과정을 거치면 1이나올수 있다.\n",
    "\n",
    "1.n이 짝수라면 2로나눈다.\n",
    "\n",
    "\n",
    "2.n이 홀수라면  3을 곱하고 1을 더한다.\n",
    "\n",
    "\n",
    "3. 결과로 나온수가 1이 될때까지 반복한다.\n",
    "\n",
    "예를들어 n이 6이면 6 3 10 5 16 8 4 2 1이 되며 8번만에 1이됩니다. 자연수 1이 들어왔을때 몇번만에 일이되는지 알아내는함수  collatz를 완성하세요\n",
    "\n",
    "단 500이 넘으면 break하세요\n",
    "\n",
    "예시 collatz(6) = 8\n",
    "collatz (16) = 4\n",
    "collatz (6263313) = -1\n"
   ]
  },
  {
   "cell_type": "code",
   "execution_count": 19,
   "metadata": {},
   "outputs": [
    {
     "data": {
      "text/plain": [
       "500"
      ]
     },
     "execution_count": 19,
     "metadata": {},
     "output_type": "execute_result"
    }
   ],
   "source": [
    "def collatz(num):\n",
    "    count=0\n",
    "    while num !=1:\n",
    "        if num % 2 ==0: \n",
    "            count += 1\n",
    "            num /= 2\n",
    "            if count > 500:\n",
    "                count= -1\n",
    "                break\n",
    "        else : \n",
    "            num=num*3+1\n",
    "            count += 1\n",
    "    return count\n",
    "    \n",
    "collatz(2**500)\n"
   ]
  },
  {
   "cell_type": "markdown",
   "metadata": {},
   "source": [
    "리스트가 주어질때, 리스트의 요소 'e'는 'range(0,10)' 에 포함되는 자연수 이다. 리스트에서 연속적으로 나타나는 숫자는 하나만 남기고 전부 제거하여 'return' 하는 함수 'lonely'를 작성해보세요. 이때 제거된 후 남은 수들을 반환할 떄는 리스트의 요소들이 순서를 유지해야 합니다. "
   ]
  },
  {
   "cell_type": "code",
   "execution_count": 54,
   "metadata": {},
   "outputs": [
    {
     "data": {
      "text/plain": [
       "[1, 4, 2, 12, 6]"
      ]
     },
     "execution_count": 54,
     "metadata": {},
     "output_type": "execute_result"
    }
   ],
   "source": [
    "\n",
    "\n",
    "# def lonelys(nums) :\n",
    "#     remove=[]\n",
    "#     count=1\n",
    "#     for index, i in enumerate(nums):\n",
    "#         if i == nums[count]:\n",
    "#             remove.append(index)\n",
    "#             count += 1\n",
    "#             if count == len(nums):\n",
    "#                 break\n",
    "#         else: \n",
    "#             count += 1\n",
    "#     print (remove)\n",
    "\n",
    "# lonely([1,1,1,1,1,3,5,6,6,1,3])            \n",
    "            \n",
    "#     remove=sorted(remove, reverse=True)\n",
    "#     for i in remove:\n",
    "#         del nums[i]\n",
    "#     return nums\n",
    "    \n",
    "\n",
    "\n",
    "# def lonely(nums) :\n",
    "#     remove=[]\n",
    "#     for index, i in enumerate (nums):\n",
    "#         if i \n",
    "\n",
    "def lonely(nums,result=[]):\n",
    "    new=[]\n",
    "    result.append(nums[0])\n",
    "    if len(list(set(nums))) == 1:        \n",
    "        return result\n",
    "    else:    \n",
    "        for i in nums:\n",
    "           if nums[0] != i:\n",
    "                new.append(i)\n",
    "        return lonely(new, result)\n",
    "\n",
    "lonely([6,1,3,2,4,1,2,5,1,3,8,1])\n",
    "\n",
    "def lonely1(numbers):\n",
    "    result=[]\n",
    "    for number in numbers:\n",
    "        if not result: #비어있나?\n",
    "            result.append(number)\n",
    "        elif result [-1] != number:\n",
    "            if result.count(number) == 0:\n",
    "                result.append(number)\n",
    "        return result\n",
    "\n",
    "def lonely3(numbers):\n",
    "    result = []\n",
    "    for number in numbers:\n",
    "        if number not in result:\n",
    "            result.append(number)\n",
    "    return result\n",
    "    \n",
    "# def lonely2(numbers):\n",
    "#     result = []\n",
    "#     for number in numbers:\n",
    "#         if not result or (result[-1] != number and result.count(number) == 0:\n",
    "#             result.append(number)\n",
    "#     return result\n",
    "        \n",
    "lonely3([1,4,1,2,1,4,12,1,4,6])\n",
    "\n",
    "#set 쓰면 끝"
   ]
  },
  {
   "cell_type": "markdown",
   "metadata": {},
   "source": [
    "### 5. * RGB 삼각형\n",
    "\n",
    "| BG   | RG   | BR   | RR   | GG   | BB   |\n",
    "| ---- | ---- | ---- | ---- | ---- | ---- |\n",
    "| R    | B    | G    | R    | G    | B    |\n",
    "\n",
    ">입력으로 `'R', 'G', 'B'`가 섞여있는 문자열이 들어온다. 문자열은 다음과 같이 합쳐진다. 해당 문자열을 처리하여 마지막 색깔만 `return`하는 `triangle()`을 작성하세요.\n",
    "```\n",
    "R R G B R G B B\n",
    " R B R G B R B\n",
    "  G G B R G G\n",
    "   G R G B G\n",
    "    B B R R\n",
    "     B G R\n",
    "      R B\n",
    "       G\n",
    "```\n",
    "\n",
    "예시)\n",
    "```python\n",
    "triangle('RRGBRGBB')#G\n",
    "triangle('GB')#R\n",
    "triangle('B')#B\n",
    "triangle('RGBG')#B\n"
   ]
  },
  {
   "cell_type": "code",
   "execution_count": 20,
   "metadata": {},
   "outputs": [
    {
     "ename": "SyntaxError",
     "evalue": "invalid syntax (<ipython-input-20-3bc53a564d7d>, line 23)",
     "output_type": "error",
     "traceback": [
      "\u001b[1;36m  File \u001b[1;32m\"<ipython-input-20-3bc53a564d7d>\"\u001b[1;36m, line \u001b[1;32m23\u001b[0m\n\u001b[1;33m    for index, color in enumerate (remain)\u001b[0m\n\u001b[1;37m                                          ^\u001b[0m\n\u001b[1;31mSyntaxError\u001b[0m\u001b[1;31m:\u001b[0m invalid syntax\n"
     ]
    }
   ],
   "source": [
    "# def look(remain, result=[]):\n",
    "#     if len(remain) == 1:\n",
    "#         return remain\n",
    "#     result = []\n",
    "#     for index, color in enumerate(remain):\n",
    "#         if color == look:\n",
    "#             say+=1\n",
    "#             if index == len(remain)-2:\n",
    "#                 break\n",
    "#         else:\n",
    "#             del(remain[0:index])\n",
    "#             break\n",
    "#     else:\n",
    "#         remain=[]\n",
    "#     result += [look, say]\n",
    "    \n",
    "#     if not remain:\n",
    "#         return look_and_say(n-1, result, [])\n",
    "#     return look_and_say (n, remain, result)\n",
    "\n",
    "remain=['B']\n",
    "result=[]\n",
    "for index, color in enumerate (remain)\n",
    "if i == 'B'\n",
    "    if remain[index+1] == B:\n",
    "        result.append(B)\n",
    "    elif remain[index+1] == G:\n",
    "        result.append(R)\n",
    "    else:\n",
    "        result.append(B)\n",
    "    \n",
    "remain=['B','C']\n",
    "result=[]\n",
    "for index, color in enumerate(remain):\n",
    "    if color == 'B':\n",
    "        if remain[index+1] == 'B':\n",
    "                result.append('B')\n",
    "        elif remain[index+1] == 'G':\n",
    "            result.append('R')\n",
    "        else:\n",
    "            result.append('B')\n",
    " "
   ]
  },
  {
   "cell_type": "code",
   "execution_count": 21,
   "metadata": {},
   "outputs": [
    {
     "name": "stdout",
     "output_type": "stream",
     "text": [
      "2147483648\n",
      "9223372036854775807\n",
      "85070591730234615847396907784232501249\n"
     ]
    }
   ],
   "source": [
    "import sys\n",
    "max_int = sys.maxsize\n",
    "print(2 ** 31)\n",
    "print (max_int)\n",
    "max_int = sys.maxsize * sys.maxsize\n",
    "print (max_int)"
   ]
  },
  {
   "cell_type": "markdown",
   "metadata": {},
   "source": [
    "#홀수개를 찾아라\n",
    "입력으로 list가 한개 들어옵니다. 이 list에는 1개의 숫자만 홀수개 들어있습니다. 이 1 개의 홀수개인 숫자를 'return'하는 'find_odd()'를 작성하세요\n",
    "\n",
    "find_odd ([1,1,2,2,3,3,3])=3\n",
    "find_odd([2,1,2]) =1\n",
    "find_odd([1,2,2,3,2,2,1])= 3"
   ]
  }
 ],
 "metadata": {
  "kernelspec": {
   "display_name": "Python 3",
   "language": "python",
   "name": "python3"
  },
  "language_info": {
   "codemirror_mode": {
    "name": "ipython",
    "version": 3
   },
   "file_extension": ".py",
   "mimetype": "text/x-python",
   "name": "python",
   "nbconvert_exporter": "python",
   "pygments_lexer": "ipython3",
   "version": "3.6.7"
  }
 },
 "nbformat": 4,
 "nbformat_minor": 2
}
