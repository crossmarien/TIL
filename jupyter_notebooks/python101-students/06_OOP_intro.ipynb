{
 "cells": [
  {
   "cell_type": "markdown",
   "metadata": {},
   "source": [
    "# 시작하기전에\n",
    "\n",
    "<wikipedia - 객체지향 프로그래밍> \n",
    ">\n",
    "> 객체 지향 프로그래밍(영어: Object-Oriented Programming, OOP)은 컴퓨터 프 로그래밍의 패러다임의 하나이다. 객체 지향 프로그래밍은 컴퓨터 프로그램을 명령어의 목록으로 보는 시각에서 벗어나 여러 개의 독립된 단위, 즉 \"객체\"들의 모임으로 파악하고자 하는 것이다. 각각의 객체는 메시지를 주고받고, 데이터를 처리할 수 있다.\n",
    ">\n",
    "> 명령형 프로그래밍인 절차지향 프로그래밍에서 발전된 형태를 나타내며, 기본 구성요소는 다음과 같다.\n",
    "\n",
    "* 클래스(Class) - 같은 종류(또는 문제 해결을 위한)의 집단에 속하는 속성(attribute)과 행위(behavior)를 정의한 것으로 객체지향 프로그램의 기본적인 사용자 정의 데이터형(user define data type)이라고 할 수 있다. 클래스는 프로그래머가 아니지만 해결해야 할 문제가 속하는 영역에 종사하는 사람이라면 사용할 수 있고, 다른 클래스 또는 외부 요소와 독립적으로 디자인하여야 한다.\n",
    "\n",
    "\n",
    "* 인스턴스 - 클래스의 인스턴스(실제로 메모리상에 할당된 것)이다. 객체는 자신 고유의 속성(attribute)을 가지며 클래스에서 정의한 행위(behavior)를 수행할 수 있다. 객체의 행위는 클래스에 정의된 행위에 대한 정의를 공유함으로써 메모리를 경제적으로 사용한다.\n",
    "\n",
    "\n",
    "* 메서드(Method) - 클래스로부터 생성된 객체를 사용하는 방법으로서 객체에 명령을 내리는 것이라 할 수 있다. 메서드는 한 객체의 속성을 조작하는 데 사용된다."
   ]
  },
  {
   "cell_type": "code",
   "execution_count": 1,
   "metadata": {},
   "outputs": [
    {
     "name": "stdout",
     "output_type": "stream",
     "text": [
      "(-16+0j)\n"
     ]
    }
   ],
   "source": [
    "# 복소수를 하나 만들어보고, 타입을 출력해봅시다.\n",
    "img_number = 3 + 4j\n",
    "\n",
    "print ((4j)**2)"
   ]
  },
  {
   "cell_type": "markdown",
   "metadata": {},
   "source": [
    "| list | dict | int | set | str |\\n\n",
    "| []   | {}     | 0  | {1,2,3}   |   ''\\n \n",
    "| [1,2,3] | {'a':1,'b':2} | 12 | {1,2,3,4,5} | 'asdf' |\n"
   ]
  },
  {
   "cell_type": "code",
   "execution_count": 2,
   "metadata": {},
   "outputs": [
    {
     "name": "stdout",
     "output_type": "stream",
     "text": [
      "3.0\n",
      "4.0\n"
     ]
    }
   ],
   "source": [
    "# 허수부랑 실수부를 함께 출력해봅시다.\n",
    "a=3 + 4j\n",
    "print (a.real)\n",
    "print (a.imag)"
   ]
  },
  {
   "cell_type": "code",
   "execution_count": 3,
   "metadata": {},
   "outputs": [
    {
     "name": "stdout",
     "output_type": "stream",
     "text": [
      "<built-in method sort of list object at 0x0000021A5EE94B08>\n"
     ]
    }
   ],
   "source": [
    "# 리스트를 하나 만들고 정렬해봅시다.\n",
    "a = [3,2,1]\n",
    "a.sort()\n",
    "print(a.sort)"
   ]
  },
  {
   "cell_type": "code",
   "execution_count": 4,
   "metadata": {},
   "outputs": [
    {
     "name": "stdout",
     "output_type": "stream",
     "text": [
      "['__add__', '__class__', '__contains__', '__delattr__', '__delitem__', '__dir__', '__doc__', '__eq__', '__format__', '__ge__', '__getattribute__', '__getitem__', '__gt__', '__hash__', '__iadd__', '__imul__', '__init__', '__init_subclass__', '__iter__', '__le__', '__len__', '__lt__', '__mul__', '__ne__', '__new__', '__reduce__', '__reduce_ex__', '__repr__', '__reversed__', '__rmul__', '__setattr__', '__setitem__', '__sizeof__', '__str__', '__subclasshook__', 'append', 'clear', 'copy', 'count', 'extend', 'index', 'insert', 'pop', 'remove', 'reverse', 'sort']\n"
     ]
    }
   ],
   "source": [
    "# 리스트 class의 object들이 할 수 있는 것들을 알아봅시다.\n",
    "print (dir(list))"
   ]
  },
  {
   "cell_type": "markdown",
   "metadata": {},
   "source": [
    "## 실습 문제\n",
    "\n",
    "> 프로그래밍으로 나와 친구의 이름을 저장해보세요.\n",
    ">\n",
    "\n",
    "**각자의 명함과 지갑을 만들어봅시다.**\n",
    "\n",
    "* 내 생일, 전화번호, 이메일주소 정보를 담은 변수를 확인해봅시다.\n",
    "\n",
    "* 주머니(pocket)에는 돈(won)을 포함하여 현재 가지고 있는 것을 작성해보세요.\n",
    "\n",
    "* 나는 인사를 하면서 내 명함에 있는 정보 하나를 이야기합니다. `greeting` 함수를 만듭시다.\n",
    "\n",
    "* 나는 주머니에 원하는 것과 갯수를 지정하여 넣을 수 있습니다. \n",
    "\n",
    "  기존에 값이 있으면, 갯수를 추가하고 없으면 새로 만드는 `in_my_pocket` 함수를 만듭시다.\n",
    "  \n",
    "**친구의 정보와 지갑도 만들어봅시다.**"
   ]
  },
  {
   "cell_type": "code",
   "execution_count": 5,
   "metadata": {
    "scrolled": true
   },
   "outputs": [],
   "source": [
    "informations= {\n",
    "    '박준태':\n",
    "    {\n",
    "    'birthday':'19960303',\n",
    "    'number':'01034717984',\n",
    "    'email':'crossmarien@naver.com',\n",
    "    'github':'crossmarien'\n",
    "    },\n",
    "    '윤지녕':\n",
    "    {\n",
    "        'number':'01023592054',\n",
    "        'email':'jny4594@gmail.com'\n",
    "    },\n",
    "    '안도건':\n",
    "    {\n",
    "        'number':'01035661509',\n",
    "        'email' : 'qrtiqrti@gmail.com' \n",
    "    }\n",
    "}\n",
    "\n",
    "# 윤지녕\n",
    "# 01023592054\n",
    "# jny4594@gmail.com\n",
    "\n",
    "# 안도건\n",
    "# 01035661509\n",
    "# qrtiqrti@gmail.com\n",
    "\n",
    "# my_pocket = {\n",
    "#     'money' : 1000\n",
    "#     'candy' : 3\n",
    "# }\n",
    "\n",
    "# def greeting (info):\n",
    "#     import random\n",
    "#     print (f'Hi, 내이름은 {info[\"name\"]} 이야.')\n",
    "#     print (f'my number is {my_info})\n",
    "#            print()\n",
    "\n",
    "# def in_my_pocket (pocket, stuff, count):\n",
    "#            if pocket.get(stuff):\n",
    "#                pocket[stuff] += countㅠㅠ\n",
    "#            else:\n",
    "#                pocket [stuff] = count\n",
    "#            return pocket"
   ]
  },
  {
   "cell_type": "code",
   "execution_count": 43,
   "metadata": {
    "scrolled": true
   },
   "outputs": [
    {
     "name": "stdout",
     "output_type": "stream",
     "text": [
      "유태영는 도착하면 물뜨기를 합니다.\n",
      "3\n",
      "김탁희는 도착하면 잠자기를 합니다.\n",
      "3\n"
     ]
    }
   ],
   "source": [
    "# class Mate:\n",
    "#     classroom = 703\n",
    "#     ban = 3\n",
    "#     def __init__(name, number, email):\n",
    "#         name.number = number\n",
    "#         name.email = email\n",
    "        \n",
    "#     def get_info(name):\n",
    "#         print(name.number, name.email)\n",
    "    \n",
    "#     def arrived(name):\n",
    "#         print(f' {name.number}뭐라뭐라 이메일은 {name.email}를 합니다.')\n",
    "    \n",
    "# yoon = Mate('number', 'jny@gmail.com')\n",
    "# yoon.get_info()\n",
    "# yoon.arrived()\n",
    "\n",
    "\n",
    "class Mate:\n",
    "    classroom=703\n",
    "    ban = 3\n",
    "    def __init__(self, name, github, blood, arrive):\n",
    "        self.name = name\n",
    "        self.blood = blood\n",
    "        self.github = github\n",
    "        self.arrive = arrive\n",
    "        \n",
    "    def get_info(self):\n",
    "        print (self.name, self.blood, self.github)\n",
    "        \n",
    "    def dochak(self):\n",
    "        print(f'{self.name}는 도착하면 {self.arrive}를 합니다.')\n",
    "\n",
    "yu = Mate ('유태영', 'eduyu', 'o' , '물뜨기')\n",
    "yu.dochak()\n",
    "print (yu.ban)\n",
    "\n",
    "kim = Mate('김탁희', 'edutak', 'a', '잠자기')\n",
    "kim.dochak()\n",
    "print (kim.ban)"
   ]
  },
  {
   "cell_type": "code",
   "execution_count": 42,
   "metadata": {},
   "outputs": [
    {
     "ename": "SyntaxError",
     "evalue": "EOL while scanning string literal (<ipython-input-42-e36a60d6be22>, line 26)",
     "output_type": "error",
     "traceback": [
      "\u001b[1;36m  File \u001b[1;32m\"<ipython-input-42-e36a60d6be22>\"\u001b[1;36m, line \u001b[1;32m26\u001b[0m\n\u001b[1;33m    print( f' 제 github 계정은 {self.github} 이고 혈액형은 {self.blood}형입니다.)\u001b[0m\n\u001b[1;37m                                                                   ^\u001b[0m\n\u001b[1;31mSyntaxError\u001b[0m\u001b[1;31m:\u001b[0m EOL while scanning string literal\n"
     ]
    }
   ],
   "source": [
    "\n",
    "# class Mate:\n",
    "#     def __init__(name, github, blood, arrive):\n",
    "#         name.blood = blood\n",
    "#         name.github = github\n",
    "#         name.arrive = arrive\n",
    "        \n",
    "#     def get_info(name):\n",
    "#         print (name.blood, name.github)\n",
    "        \n",
    "#     def dochak(name):\n",
    "#         print(f'{name.blood}는 도착하면 {name.arrive}를 합니다.')\n",
    "\n",
    "# yu = Mate ('유태영', 'o' , '물뜨기')\n",
    "# yu.dochak()\n",
    "\n",
    "# kim = Mate('김탁희', 'a', '잠자기')\n",
    "# kim.dochak()\n",
    "\n",
    "\n",
    "class Mate:\n",
    "    def __init__(name, number, email):\n",
    "        name.number = number\n",
    "        name.email = email\n",
    "    def intro(name):\n",
    "        print( f' 제 github 계정은 {self.github} 이고 혈액형은 {self.blood}형입니다.)\n",
    "    def get_info(name):\n",
    "        print(name.number, name.email)\n",
    "    \n",
    "# def arrived(name):\n",
    "#     print(f' {name.number}뭐라뭐라 이메일은 {name.email}를 합니다.')\n",
    "    \n",
    "yoon = Mate('number', 'jny@gmail.com')\n",
    "yoon.get_info()\n",
    "# yoon.arrived()"
   ]
  },
  {
   "cell_type": "code",
   "execution_count": 8,
   "metadata": {},
   "outputs": [],
   "source": [
    "\n",
    "def arrive(mate):\n",
    "    if mate['name'] == '유태영':\n",
    "        print ('화장실에 간다.')\n",
    "        print ('출첵을 한다.')\n",
    "        "
   ]
  },
  {
   "cell_type": "markdown",
   "metadata": {},
   "source": [
    "그러니까~ c언어는 초창기에 만들어져서 객체지향 프로그램이 아니야"
   ]
  },
  {
   "cell_type": "code",
   "execution_count": 9,
   "metadata": {},
   "outputs": [
    {
     "name": "stdout",
     "output_type": "stream",
     "text": [
      "한글자만 넣어라f\n",
      "ㅋㅋㅋㅋㅋㅋㅋ\n",
      "False\n"
     ]
    }
   ],
   "source": [
    "class Text:\n",
    "    def __init__(self,content):\n",
    "        self.content = content\n",
    "        \n",
    "    def is_palindrome(self):\n",
    "        txt = self.content.replace(' ', '').lower()\n",
    "        return txt == ''.join (reversed(txt))\n",
    "    \n",
    "    def start_hangman(self):\n",
    "        guess = input ('한글자만 넣어라')\n",
    "        if guess in self.content:\n",
    "            print('오 맞음!')\n",
    "            return True\n",
    "        else:\n",
    "            print('ㅋㅋㅋㅋㅋㅋㅋ')\n",
    "            return False\n",
    "\n",
    "\n",
    "        \n",
    "my_text = Text ('A santa at Nasa')\n",
    "your_text = Text('apple')\n",
    "# print(my_text.content)\n",
    "# print(my_text.is_palindrome())\n",
    "print(your_text.start_hangman())"
   ]
  },
  {
   "cell_type": "code",
   "execution_count": 10,
   "metadata": {},
   "outputs": [
    {
     "ename": "SyntaxError",
     "evalue": "invalid syntax (<ipython-input-10-9045b1a43fc4>, line 1)",
     "output_type": "error",
     "traceback": [
      "\u001b[1;36m  File \u001b[1;32m\"<ipython-input-10-9045b1a43fc4>\"\u001b[1;36m, line \u001b[1;32m1\u001b[0m\n\u001b[1;33m    def List:\u001b[0m\n\u001b[1;37m            ^\u001b[0m\n\u001b[1;31mSyntaxError\u001b[0m\u001b[1;31m:\u001b[0m invalid syntax\n"
     ]
    }
   ],
   "source": [
    "def List:\n",
    "    def append(self, e):\n",
    "        self += [e]\n",
    "    def sort():\n",
    "        ..."
   ]
  },
  {
   "cell_type": "code",
   "execution_count": null,
   "metadata": {},
   "outputs": [],
   "source": [
    "# in_my_pocket 함수를 통해 내 주머니에 내용을 추가해봅시다."
   ]
  },
  {
   "cell_type": "code",
   "execution_count": null,
   "metadata": {},
   "outputs": [],
   "source": [
    "# greeting 함수를 통해 인사를 해봅시다.\n",
    "#=> 안녕, kim이야. 01012345678"
   ]
  },
  {
   "cell_type": "markdown",
   "metadata": {},
   "source": [
    "# 클래스 및 인스턴스"
   ]
  },
  {
   "cell_type": "markdown",
   "metadata": {},
   "source": [
    "## 클래스 객체\n",
    "\n",
    "```python\n",
    "class ClassName:\n",
    "    \n",
    "```\n",
    "\n",
    "* 선언과 동시에 클래스 객체가 생성됨.\n",
    "\n",
    "* 또한, 선언된 공간은 지역 스코프로 사용된다.\n",
    "\n",
    "* 정의된 어트리뷰트 중 변수는 멤버 변수로 불리운다.\n",
    "\n",
    "* 정의된 함수(`def`)는 메서드로 불리운다."
   ]
  },
  {
   "cell_type": "code",
   "execution_count": 18,
   "metadata": {},
   "outputs": [
    {
     "name": "stdout",
     "output_type": "stream",
     "text": [
      "<class 'type'>\n",
      "<class '__main__.TestClass'>\n"
     ]
    }
   ],
   "source": [
    "# Class를 만들어봅시다.\n",
    "class TestClass:\n",
    "    \"\"\"Test Class\"\"\"\n",
    "    \n",
    "print(type(TestClass))\n",
    "type(2)\n",
    "tc = TestClass()\n",
    "print(type(tc))"
   ]
  },
  {
   "cell_type": "code",
   "execution_count": 19,
   "metadata": {},
   "outputs": [
    {
     "name": "stdout",
     "output_type": "stream",
     "text": [
      "hello\n"
     ]
    }
   ],
   "source": [
    "# Person 클래스를 만들어봅시다.\n",
    "class Person:\n",
    "    name = '준태'\n",
    "    \n",
    "    def say_hi(self):\n",
    "        print('hello')\n",
    "        \n",
    "    def intro(self):\n",
    "        print (f'I am {self.name}')\n",
    "\n",
    "\n",
    "p = Person()\n",
    "p.say_hi()"
   ]
  },
  {
   "cell_type": "markdown",
   "metadata": {},
   "source": [
    "* 선언시 self는 반드시 작성해주세요! 나중에 설명드립니다."
   ]
  },
  {
   "cell_type": "markdown",
   "metadata": {},
   "source": [
    "## 인스턴스 객체\n",
    "\n",
    "* 인스턴스 객체는 `ClassName()`을 호출함으로써 선언된다.\n",
    "\n",
    "* 인스턴스 객체와 클래스 객체는 서로 다른 이름 공간을 가지고 있다.\n",
    "\n",
    "* 인스턴스 -> 클래스 -> 전역 순으로 탐색을 한다."
   ]
  },
  {
   "cell_type": "code",
   "execution_count": 20,
   "metadata": {},
   "outputs": [],
   "source": [
    "# iu라는 클래스 Person의 인스턴스를 만들어봅시다. \n",
    "iu = Person()"
   ]
  },
  {
   "cell_type": "code",
   "execution_count": 21,
   "metadata": {},
   "outputs": [
    {
     "name": "stdout",
     "output_type": "stream",
     "text": [
      "hello\n"
     ]
    }
   ],
   "source": [
    "# 인사하는 메서드를 호출해봅시다.\n",
    "iu.say_hi()"
   ]
  },
  {
   "cell_type": "code",
   "execution_count": 22,
   "metadata": {},
   "outputs": [
    {
     "data": {
      "text/plain": [
       "'준태'"
      ]
     },
     "execution_count": 22,
     "metadata": {},
     "output_type": "execute_result"
    }
   ],
   "source": [
    "# iu의 이름을 확인해봅시다.\n",
    "iu.name"
   ]
  },
  {
   "cell_type": "code",
   "execution_count": 23,
   "metadata": {},
   "outputs": [
    {
     "name": "stdout",
     "output_type": "stream",
     "text": [
      "IU\n"
     ]
    }
   ],
   "source": [
    "# iu로 이름을 바꿔주세요.\n",
    "iu.name = 'IU'\n",
    "print(iu.name)"
   ]
  },
  {
   "cell_type": "code",
   "execution_count": 25,
   "metadata": {},
   "outputs": [
    {
     "name": "stdout",
     "output_type": "stream",
     "text": [
      "I am IU\n"
     ]
    }
   ],
   "source": [
    "# iu가 인사를 합니다.\n",
    "iu.intro()"
   ]
  },
  {
   "cell_type": "code",
   "execution_count": 26,
   "metadata": {},
   "outputs": [
    {
     "data": {
      "text/plain": [
       "True"
      ]
     },
     "execution_count": 26,
     "metadata": {},
     "output_type": "execute_result"
    }
   ],
   "source": [
    "# iu와 Person이 같은지 확인해보겠습니다.\n",
    "isinstance(iu, Person)\n",
    "\n",
    "#if isinstance(user_input, str):"
   ]
  },
  {
   "cell_type": "code",
   "execution_count": 27,
   "metadata": {},
   "outputs": [
    {
     "data": {
      "text/plain": [
       "True"
      ]
     },
     "execution_count": 27,
     "metadata": {},
     "output_type": "execute_result"
    }
   ],
   "source": [
    "# iu와 Person이 같은지 확인해보겠습니다.\n",
    "type(iu) == Person\n",
    "type('a') ==str"
   ]
  },
  {
   "cell_type": "code",
   "execution_count": 28,
   "metadata": {},
   "outputs": [
    {
     "name": "stdout",
     "output_type": "stream",
     "text": [
      "<__main__.Person object at 0x0000021A5F00F2E8>\n"
     ]
    }
   ],
   "source": [
    "# iu를 출력해봅시다.\n",
    "print(iu)"
   ]
  },
  {
   "cell_type": "code",
   "execution_count": 29,
   "metadata": {},
   "outputs": [
    {
     "data": {
      "text/plain": [
       "<__main__.Person at 0x21a5f00f2e8>"
      ]
     },
     "execution_count": 29,
     "metadata": {},
     "output_type": "execute_result"
    }
   ],
   "source": [
    "# iu를 출력해봅시다 2.\n",
    "iu"
   ]
  },
  {
   "cell_type": "code",
   "execution_count": 30,
   "metadata": {},
   "outputs": [
    {
     "data": {
      "text/plain": [
       "__main__.Person"
      ]
     },
     "execution_count": 30,
     "metadata": {},
     "output_type": "execute_result"
    }
   ],
   "source": [
    "# type을 확인해봅시다.\n",
    "type(iu)"
   ]
  },
  {
   "cell_type": "markdown",
   "metadata": {},
   "source": [
    "* 파이썬 출력의 비밀 : repr, str"
   ]
  },
  {
   "cell_type": "code",
   "execution_count": null,
   "metadata": {},
   "outputs": [],
   "source": []
  },
  {
   "cell_type": "code",
   "execution_count": 33,
   "metadata": {},
   "outputs": [],
   "source": [
    "# 강다니엘을 만들어봅시다.\n",
    "강다니엘 = Person()"
   ]
  },
  {
   "cell_type": "code",
   "execution_count": 34,
   "metadata": {},
   "outputs": [
    {
     "name": "stdout",
     "output_type": "stream",
     "text": [
      "<__main__.Person object at 0x0000021A5F00F710>\n"
     ]
    }
   ],
   "source": [
    "# 강다니엘을 출력해봅시다.\n",
    "print(강다니엘)"
   ]
  },
  {
   "cell_type": "markdown",
   "metadata": {},
   "source": [
    "## 실습 문제 발전\n",
    "\n",
    "> 지금까지 배운 것을 통해서 Person 클래스를 만들고, 친구와 나를 표현해봅시다.\n",
    ">\n",
    "> 주머니와 정보를 가지고 있고 (멤버 변수)\n",
    "> \n",
    "> 인사(`greeting()`)와 주머니에 내용을 추가(`in_my_pocket()`)할 수 있습니다. (메서드)\n",
    ">\n",
    "> 추가적으로 `get_my_pocket()`으로 지갑에 담긴 정보를 가져와 봅시다.\n",
    ">\n",
    "> 그리고 사람을 출력하면, 지갑을 제외한 정보를 보여줘보세요. "
   ]
  },
  {
   "cell_type": "code",
   "execution_count": null,
   "metadata": {},
   "outputs": [],
   "source": [
    "# 아래에 코드를 작성해주세요.    "
   ]
  },
  {
   "cell_type": "markdown",
   "metadata": {},
   "source": [
    "## MyList만들기\n",
    "\n",
    "> 이제 배운 것을 활용하여 나만의 리스트 객체를 만들 수 있습니다. \n",
    ">\n",
    "> `class MyList:`\n",
    ">\n",
    "\n",
    "```\n",
    "* 변수\n",
    "data : 비어 있는 리스트\n",
    "\n",
    "* 메서드 \n",
    "append : 값을 받아 추가합니다.\n",
    "pop : 마지막에 있는 값을 없애고, 해당 값을 리턴합니다.\n",
    "reverse : 제자리에서 뒤집고 리턴 값은 없습니다.\n",
    "count(x) : x의 갯수를 반환합니다.\n",
    "clear : 값을 모두 삭제합니다.\n",
    "\n",
    "__repr__ : ex) '리스트 내용 1, 2, 3'\n",
    "```"
   ]
  },
  {
   "cell_type": "code",
   "execution_count": null,
   "metadata": {},
   "outputs": [],
   "source": [
    "# 아래에 코드를 작성해주세요."
   ]
  },
  {
   "cell_type": "markdown",
   "metadata": {},
   "source": [
    "## 자유롭게 만들어보기\n",
    "\n",
    "> 이 세상에 있는 무엇인가를 자유롭게 표현해주세요."
   ]
  },
  {
   "cell_type": "code",
   "execution_count": 40,
   "metadata": {},
   "outputs": [
    {
     "data": {
      "text/plain": [
       "100"
      ]
     },
     "execution_count": 40,
     "metadata": {},
     "output_type": "execute_result"
    }
   ],
   "source": [
    "class Pokemon:\n",
    "    def __init__(self, level):\n",
    "        self.level = level\n",
    "        self.hp = self.level * 10\n",
    "        \n",
    "    def set_hp(self, point):\n",
    "        self.hp += point\n",
    "        \n",
    "    def check_status(self):\n",
    "        if self.hp > 0:\n",
    "            return True\n",
    "        else: \n",
    "            return False\n",
    "        \n",
    "    def print_status(self):\n",
    "        print(f'{self.name} 의 체력: {self.hp}')"
   ]
  },
  {
   "cell_type": "code",
   "execution_count": null,
   "metadata": {},
   "outputs": [],
   "source": [
    "import random\n",
    "class Pikachu(Pokemon):\n",
    "    # Pokemon 클래스 상속으로 다 물려받음!\n",
    "    # def __init__(self, name, level):\n",
    "    #     self.name = name\n",
    "    #     self.level = level\n",
    "    #     self.hp = level * 10\n",
    "        \n",
    "    # def set_hp(self, point):\n",
    "    #     self.hp += point\n",
    "        \n",
    "    # def check_status(self):\n",
    "    #     if self.hp > 0:\n",
    "    #         return True\n",
    "    #     else: \n",
    "    #         return False\n",
    "        \n",
    "    name = '피카츄'\n",
    "    types = ('elec')\n",
    "    def body_attack(self, enemy):\n",
    "        enemy.set_hp(-1 * self.level)\n",
    "        \n",
    "    def thousand_volt(self, enemy):\n",
    "        if 'water' in enemy.types:\n",
    "            enemy.set_hp(-1.3 * self.level)\n",
    "            print('효과는 굉장했다!')\n",
    "        else:\n",
    "            enemy.set_hp(-1.05 * self.level)\n",
    "            \n",
    "    def attack(self, enemy):\n",
    "        c = random.choice([1, 2])\n",
    "        if c == 1:\n",
    "            self.body_attack(enemy)\n",
    "        else:\n",
    "            self.thousand_volt(enemy)\n",
    "            \n",
    "class Squirtle(Pokemon):\n",
    "    name = '꼬부기'\n",
    "    types = ('water')\n",
    "    def body_attack(self, enemy):\n",
    "        enemy.set_hp(-0.98 * self.level)\n",
    "    \n",
    "    def water_attack(self, enemy):\n",
    "        enemy.set_hp(-1.08 * self.level)\n",
    "    \n",
    "    def attack(self, enemy):\n",
    "        c = random.choice([1, 2])\n",
    "        if c == 1:\n",
    "            self.body_attack(enemy)\n",
    "        else:\n",
    "            self.water_attack(enemy)"
   ]
  },
  {
   "cell_type": "code",
   "execution_count": null,
   "metadata": {},
   "outputs": [],
   "source": [
    "a = Pikachu(10)\n",
    "b = Squirtle(10)\n",
    "\n",
    "def battle(p1, p2):\n",
    "    import random\n",
    "    # 선공 후공 결정\n",
    "    vs = [p1, p2]\n",
    "    random.shuffle(vs)\n",
    "    winner = 0\n",
    "    prev, after = tuple(vs)\n",
    "    while prev.check_status() and after.check_status():\n",
    "        if prev.check_status:\n",
    "            prev.attack(after)\n",
    "            prev.print_status()\n",
    "        else:\n",
    "            winner = after\n",
    "            break\n",
    "        if after.check_status():\n",
    "            after.attack(prev)\n",
    "            after.print_status()\n",
    "        else:\n",
    "            winner = prev\n",
    "            break\n",
    "            \n",
    "    print(f'{winner.name} 의 승리!')\n",
    "    \n",
    "battle(Pikachu(20), Squirtle(21))"
   ]
  },
  {
   "cell_type": "code",
   "execution_count": null,
   "metadata": {},
   "outputs": [],
   "source": [
    "# a= Pikachu('p', 10)\n",
    "# b= Squirtle('s', 10)\n",
    "\n",
    "# def battle(p1,p2):\n",
    "#     import random\n",
    "#     #선공후공 결정\n",
    "#     prev, after = tuple(random.shuffle([p1,p2]))\n",
    "#     while "
   ]
  }
 ],
 "metadata": {
  "kernelspec": {
   "display_name": "Python 3",
   "language": "python",
   "name": "python3"
  },
  "language_info": {
   "codemirror_mode": {
    "name": "ipython",
    "version": 3
   },
   "file_extension": ".py",
   "mimetype": "text/x-python",
   "name": "python",
   "nbconvert_exporter": "python",
   "pygments_lexer": "ipython3",
   "version": "3.6.7"
  },
  "latex_envs": {
   "LaTeX_envs_menu_present": true,
   "autoclose": false,
   "autocomplete": true,
   "bibliofile": "biblio.bib",
   "cite_by": "apalike",
   "current_citInitial": 1,
   "eqLabelWithNumbers": true,
   "eqNumInitial": 1,
   "hotkeys": {
    "equation": "Ctrl-E",
    "itemize": "Ctrl-I"
   },
   "labels_anchors": false,
   "latex_user_defs": false,
   "report_style_numbering": false,
   "user_envs_cfg": false
  },
  "toc": {
   "base_numbering": 1,
   "nav_menu": {},
   "number_sections": true,
   "sideBar": true,
   "skip_h1_title": false,
   "title_cell": "Table of Contents",
   "title_sidebar": "Contents",
   "toc_cell": false,
   "toc_position": {},
   "toc_section_display": true,
   "toc_window_display": false
  }
 },
 "nbformat": 4,
 "nbformat_minor": 2
}
