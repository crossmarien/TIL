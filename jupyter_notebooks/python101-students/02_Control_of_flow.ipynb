{
 "cells": [
  {
   "cell_type": "markdown",
   "metadata": {
    "slideshow": {
     "slide_type": "slide"
    }
   },
   "source": [
    "# 조건문\n",
    "\n",
    "지금까지의 코드는 위에서부터 아래로 순차적으로 명령을 수행하는 프로그램을 작성하였다. \n",
    "\n",
    "제어문(Control of Flow)은 크게 반복문과 조건문으로 나눌 수 있고, 이는 순서도(Flow chart로 표현이 가능하다.)\n",
    "\n",
    "\n",
    "<center> \n",
    "    <img src=\"./images/02/if.png\", alt='if flowchart'/>\n",
    "</center>\n"
   ]
  },
  {
   "cell_type": "code",
   "execution_count": null,
   "metadata": {
    "scrolled": true,
    "slideshow": {
     "slide_type": "subslide"
    }
   },
   "outputs": [],
   "source": [
    "# 위의 flow chart로 표현하면 아래와 같다.\n",
    "a = 5\n",
    "if a > 5:\n",
    "    print ('5 초과')\n",
    "else:\n",
    "        print ('5 이하')\n",
    "print (a)"
   ]
  },
  {
   "cell_type": "markdown",
   "metadata": {
    "slideshow": {
     "slide_type": "slide"
    }
   },
   "source": [
    "## 조건문 문법\n",
    "\n",
    "1. `if` 문은 반드시 일정한 참/거짓을 판단할 수 있는 `조건식`과 함께 사용이 되어야한다.\n",
    "`if <조건식>:`\n",
    "\n",
    "2-1. `<조건식>`이 참인 경우 `:` 이후의 문장을 수행한다.\n",
    "\n",
    "2-2. `<조건식>`이 거짓인 경우 `else:` 이후의 문장을 수행한다.\n",
    "\n",
    "* 이때 반드시 **들여쓰기를** 유의해야한다. \n",
    "파이썬에서는 코드 블록을 자바나 C언어의 `{}`와 달리 `들여쓰기`로 판단하기 때문이다.\n",
    "* 앞으로 우리는 `PEP-8`에서 권장하는 `4spaces`를 사용할 것이다.\n"
   ]
  },
  {
   "cell_type": "markdown",
   "metadata": {},
   "source": [
    "<center>\n",
    "    <img src=\"./images/02/if_style.png\", alt=\"if style\"/>\n",
    "</center>"
   ]
  },
  {
   "cell_type": "markdown",
   "metadata": {
    "slideshow": {
     "slide_type": "subslide"
    }
   },
   "source": [
    "<center><strong style=\"font-size: 40px;\">우리는 4spaces를 맞춰서 씁니다!</strong></center>\n",
    "<br>\n",
    "\n",
    "<center>\n",
    "    <img src=\"./images/02/spacetab.png\", alt=\"[space vs tab]\"/>\n",
    "</center>    \n",
    "\n",
    "\n",
    "\n",
    "\n",
    "[출처 : 400,000 GitHub repositories, 1 billion files, 14 terabytes of code: Spaces or Tabs?](https://medium.com/@hoffa/400-000-github-repositories-1-billion-files-14-terabytes-of-code-spaces-or-tabs-7cfe0b5dd7fd)\n"
   ]
  },
  {
   "cell_type": "markdown",
   "metadata": {},
   "source": [
    "### 실습문제1 - 조건문 기초 활용\n",
    "\n",
    "\n",
    "> **조건문을 통해 변수 num의 값과 홀수/짝수 여부를 출력하세요.**\n",
    "\n",
    "---\n",
    "\n",
    "```\n",
    "예시 출력)\n",
    "3\n",
    "홀수입니다.\n",
    "```"
   ]
  },
  {
   "cell_type": "code",
   "execution_count": null,
   "metadata": {
    "slideshow": {
     "slide_type": "subslide"
    }
   },
   "outputs": [],
   "source": [
    "# 실습!\n",
    "num = int(input(\"점수를 입력하세요 : \"))\n",
    "# 아래에 코드를 작성하세요.\n",
    "print (num)\n",
    "if num % 2 ==0:\n",
    "    print('짝수입니다.')\n",
    "else:\n",
    "    print ('홀수입니다.')\n",
    "   "
   ]
  },
  {
   "cell_type": "markdown",
   "metadata": {},
   "source": [
    "#실습문제 2\n",
    "> 아래코드의 출력결과를 예상해보세요\n",
    "\n",
    "\n",
    "\n"
   ]
  },
  {
   "cell_type": "code",
   "execution_count": null,
   "metadata": {},
   "outputs": [],
   "source": [
    "if True:\n",
    "    if False:\n",
    "        print(1)\n",
    "        print(2)\n",
    "    else:\n",
    "        print (3)\n",
    "else : \n",
    "    print (4)\n",
    "print(5)\n",
    "\n",
    "\n"
   ]
  },
  {
   "cell_type": "markdown",
   "metadata": {},
   "source": [
    "###실습문제 3\n",
    ">택시를 타려면 주money에 4000원 이상 혹은 카드가 있어야한다. 이때 택시를 탈수 있는지를 확인하는 코드를 짜보자."
   ]
  },
  {
   "cell_type": "code",
   "execution_count": null,
   "metadata": {},
   "outputs": [],
   "source": [
    "def taxi():\n",
    "    money=int(input())\n",
    "    card=int(input('있으면 1 없으면 0'))\n",
    "    return ('taxi go') if money >= 4000 or card==1 else 'taxi nono'\n",
    "taxi()\n",
    "    "
   ]
  },
  {
   "cell_type": "markdown",
   "metadata": {
    "slideshow": {
     "slide_type": "slide"
    }
   },
   "source": [
    "## 복수 조건문\n",
    "\n",
    "2개 이상의 조건문을 활용할 경우 `elif <조건식>:`을 활용한다.\n",
    "<center>\n",
    "<img src=\"./images/02/elif.png\", alt=\"elif\">\n",
    "</center>"
   ]
  },
  {
   "cell_type": "markdown",
   "metadata": {
    "slideshow": {
     "slide_type": "subslide"
    }
   },
   "source": [
    "### 실습문제2 - 조건식 2개 이상 활용하기\n",
    "\n",
    "> 조건문을 통해 변수 score에 따른 평점을 출력하세요.\n",
    "\n",
    "|점수|등급|\n",
    "|---|---|\n",
    "|90점 이상|A|\n",
    "|80점 이상|B|\n",
    "|70점 이상|C|\n",
    "|60점 이상|D|\n",
    "|60점 미만|F|\n",
    "\n",
    "--- \n",
    "\n",
    "```\n",
    "예시 출력)\n",
    "B\n",
    "```"
   ]
  },
  {
   "cell_type": "code",
   "execution_count": null,
   "metadata": {
    "slideshow": {
     "slide_type": "-"
    }
   },
   "outputs": [],
   "source": [
    "# 실습!\n",
    "score = int(input(\"점수를 입력하세요 : \"))\n",
    "# 아래에 코드를 작성하세요.\n",
    "if score>100 or score<0:\n",
    "    print('error')\n",
    "elif score >=90:\n",
    "    print('A')\n",
    "elif score >=80:\n",
    "    print ('B')\n",
    "elif score>=70:\n",
    "    print ('C')\n",
    "elif score>=60:\n",
    "    print ('D')\n",
    "else:\n",
    "    print ('F')"
   ]
  },
  {
   "cell_type": "markdown",
   "metadata": {
    "slideshow": {
     "slide_type": "subslide"
    }
   },
   "source": [
    "### 실습문제3 - 중첩 조건문 활용\n",
    "\n",
    "> **위의 실습문제 2코드를 활용하여 \n",
    "95점 이상이면, \"참잘했어요\"를 함께 출력해주세요**\n",
    "\n",
    "--- \n",
    "\n",
    "```\n",
    "예시 출력)\n",
    "A\n",
    "참잘했어요\n",
    "```"
   ]
  },
  {
   "cell_type": "code",
   "execution_count": null,
   "metadata": {},
   "outputs": [],
   "source": [
    "# 실습!\n",
    "score = 96\n",
    "\n",
    "# 아래에 코드를 작성하세요.\n",
    "if score>100 or score<0:\n",
    "    print('error')\n",
    "elif score>=95:\n",
    "    print ('A \\n참잘했어요')\n",
    "elif score >=90:\n",
    "    print('A')\n",
    "elif score >=80:\n",
    "    print ('B')\n",
    "elif score>=70:\n",
    "    print ('C')\n",
    "elif score>=60:\n",
    "    print ('D')\n",
    "else:\n",
    "    print ('F')"
   ]
  },
  {
   "cell_type": "code",
   "execution_count": null,
   "metadata": {},
   "outputs": [],
   "source": [
    "#FizzBuzz\n",
    "#3의 배수면, FIzz가놔야하고 5의배수면 Buzz가 나와야되고 3과5의 배수면 FizzBuzz가 나온다.\n",
    "\n",
    "n=int(input('숫자써'))\n",
    "for i in range(1, n+1):\n",
    "    if i % 3==0 and i % 15 !=0:\n",
    "        print ('Fizz')\n",
    "    elif i % 5 ==0 and i % 15!=0:\n",
    "        print ('Buzz')\n",
    "    elif i% 15 ==0:\n",
    "        print('FizzBuzz')\n",
    "    else:\n",
    "        print(i)\n",
    "   "
   ]
  },
  {
   "cell_type": "code",
   "execution_count": null,
   "metadata": {},
   "outputs": [],
   "source": [
    "#정수 3개를 받고 가운데 숫자를 출력하라.\n",
    "def second_number(*args):\n",
    "    numbers=list (input(*args))\n",
    "    n=0\n",
    "    for i in numbers:\n",
    "        if i > numbers[n+1] and i < numbers[n-1] or i< numbers[n+1] and i > numbers[n-1]:\n",
    "            return numbers[i]\n",
    "    else:\n",
    "        n+1\n",
    "        \n",
    "print (second_number())\n",
    "\n",
    "\n",
    "    "
   ]
  },
  {
   "cell_type": "markdown",
   "metadata": {
    "slideshow": {
     "slide_type": "slide"
    }
   },
   "source": [
    "## 조건 표현식(Conditional Expression)\n",
    "\n",
    "**활용법**\n",
    "\n",
    "```\n",
    "true_value if <조건식> else false_value\n",
    "```\n",
    "    \n",
    "와 같이 표현식을 작성할 수 있다. 이는 보통 다른 언어에서 활용되는 삼항연산자와 동일하다."
   ]
  },
  {
   "cell_type": "code",
   "execution_count": null,
   "metadata": {},
   "outputs": [],
   "source": [
    "num = 3\n",
    "print ('3입니다') if num == 3 else print('3이 아닙니다.')"
   ]
  },
  {
   "cell_type": "markdown",
   "metadata": {
    "slideshow": {
     "slide_type": "subslide"
    }
   },
   "source": [
    "* 표현식은 보통 조건에 따라 값을 정할 때 많이 활용된다."
   ]
  },
  {
   "cell_type": "code",
   "execution_count": null,
   "metadata": {},
   "outputs": [],
   "source": [
    "# 아래의 코드는 무엇을 위한 코드일까요?\n",
    "num = int(input(\"숫자를 입력하세요 : \"))\n",
    "value = num if num >= 0 else 0\n",
    "print(value)\n",
    "\n",
    "음수는 0으로 변환해주는 코드"
   ]
  },
  {
   "cell_type": "code",
   "execution_count": null,
   "metadata": {
    "slideshow": {
     "slide_type": "fragment"
    }
   },
   "outputs": [],
   "source": [
    "# 위의 코드와 동일한 코드입니다.\n",
    "num=-5\n",
    "if num>=0:\n",
    "    value=num\n",
    "else:\n",
    "    value=0\n",
    "print (value)"
   ]
  },
  {
   "cell_type": "code",
   "execution_count": null,
   "metadata": {
    "slideshow": {
     "slide_type": "subslide"
    }
   },
   "outputs": [],
   "source": [
    "# 다음의 코드와 동일한 조건 표현식을 작성해보세요.\n",
    "num = 5\n",
    "if num % 2:\n",
    "    result = '홀수입니다.'\n",
    "else:\n",
    "    result = '짝수입니다.'\n",
    "print(result)\n",
    "\n",
    "print ('홀수입니다.') if num%2 else print('짝수입니다.')"
   ]
  },
  {
   "cell_type": "code",
   "execution_count": null,
   "metadata": {},
   "outputs": [],
   "source": [
    "# 여기에 코드를 작성하세요.\n",
    "import random\n",
    "a=random.sample(range(1,7),2)\n",
    "a"
   ]
  },
  {
   "cell_type": "markdown",
   "metadata": {
    "slideshow": {
     "slide_type": "slide"
    }
   },
   "source": [
    "# 반복문\n",
    "\n",
    "## `while` 문\n",
    "\n",
    "`while`문은 조건식이 참(True)인 경우 반복적으로 코드를 실행합니다. \n",
    "<br>\n",
    "<br>\n",
    "<center> \n",
    "    <img src=\"./images/02/while.png\", alt=\"while\"/>\n",
    "</center>\n",
    "\n",
    "**while 문은 종료조건을 반드시 설정해주어야 합니다.**"
   ]
  },
  {
   "cell_type": "code",
   "execution_count": null,
   "metadata": {},
   "outputs": [],
   "source": [
    "a=0\n",
    "while a<5:\n",
    "    print (a)\n",
    "    a+=1\n",
    "print ('끝')"
   ]
  },
  {
   "cell_type": "markdown",
   "metadata": {
    "slideshow": {
     "slide_type": "subslide"
    }
   },
   "source": [
    "<center>\n",
    "    <img src=\"./images/02/while_style.png\", alt=\"\">\n",
    "</center>\n",
    "\n",
    "`while`문 역시 `<조건식>`이후에 `:`이 반드시 필요하며, \n",
    "\n",
    "이후 오는 코드 블록은 `4spaces`로 **들여쓰기**를 해주셔야 합니다."
   ]
  },
  {
   "cell_type": "markdown",
   "metadata": {
    "slideshow": {
     "slide_type": "slide"
    }
   },
   "source": [
    "## `for` 문\n",
    "\n",
    "`for`문은 정해진 범위 내(시퀀스)에서 순차적으로 코드를 실행합니다.\n",
    "\n",
    "<br>\n",
    "<center>\n",
    "    <img src=\"./images/02/loop-for.png\", alt=\"\">\n",
    "</center>"
   ]
  },
  {
   "cell_type": "code",
   "execution_count": null,
   "metadata": {
    "slideshow": {
     "slide_type": "subslide"
    }
   },
   "outputs": [],
   "source": []
  },
  {
   "cell_type": "markdown",
   "metadata": {
    "slideshow": {
     "slide_type": "subslide"
    }
   },
   "source": [
    "<center>\n",
    "    <img src=\"./images/02/for_style.png\", alt=\"for_style\">\n",
    "</center>\n",
    "\n",
    "---\n",
    "```\n",
    "for variable in sequence:\n",
    "    code line1\n",
    "    code line2\n",
    "```\n",
    "\n",
    "`for`문은 `sequence`를 순차적으로 **variable**에 값을 바인딩하며, 코드 블록을 시행합니다."
   ]
  },
  {
   "cell_type": "markdown",
   "metadata": {
    "slideshow": {
     "slide_type": "subslide"
    }
   },
   "source": [
    "![for animation](./images/02/for.gif)"
   ]
  },
  {
   "cell_type": "markdown",
   "metadata": {
    "slideshow": {
     "slide_type": "subslide"
    }
   },
   "source": [
    "###  실습문제\n",
    "\n",
    "> 반복문과 조건문만 활용하여 1~30까지 숫자 중에 홀수만 담긴 리스트를 만드세요\n",
    "\n",
    "---\n",
    "```\n",
    "예시 출력)\n",
    "[1, 3, 5, 7, 9, 11, 13, 15, 17, 19, 21, 23, 25, 27, 29]\n",
    "```"
   ]
  },
  {
   "cell_type": "code",
   "execution_count": null,
   "metadata": {
    "slideshow": {
     "slide_type": "subslide"
    }
   },
   "outputs": [],
   "source": [
    "# 여기에 코드를 작성하세요.\n",
    "import random\n",
    "list1=random.sample(range(1,101),10)\n",
    "listodd=[]\n",
    "\n",
    "for i in list1:\n",
    "    if i % 2:\n",
    "        listodd.append(i)\n",
    "print (listodd)"
   ]
  },
  {
   "cell_type": "code",
   "execution_count": 2,
   "metadata": {},
   "outputs": [
    {
     "name": "stdout",
     "output_type": "stream",
     "text": [
      "숫자를 넣으시오15\n",
      "120.0\n"
     ]
    }
   ],
   "source": [
    "#정수 n 이 들어오면, 1 ~ n 까지의 합을 출력\n",
    "def exhaustdeal():\n",
    "    num=int(input('숫자를 넣으시오'))\n",
    "    result=num*(num+1)/2\n",
    "    return result\n",
    "print (exhaustdeal())"
   ]
  },
  {
   "cell_type": "code",
   "execution_count": 60,
   "metadata": {},
   "outputs": [
    {
     "name": "stdout",
     "output_type": "stream",
     "text": [
      "1  2  3  4  5  6  7  8  9\n",
      "2  4  6  8  10  12  14  16  18\n",
      "3  6  9  12  15  18  21  24  27\n",
      "4  8  12  16  20  24  28  32  36\n",
      "5  10  15  20  25  30  35  40  45\n",
      "6  12  18  24  30  36  42  48  54\n",
      "7  14  21  28  35  42  49  56  63\n",
      "8  16  24  32  40  48  56  64  72\n",
      "9  18  27  36  45  54  63  72  81\n"
     ]
    }
   ],
   "source": [
    "#for 와 range로 99단 출력하기\n",
    "\"\"\"실패1\n",
    "numbers=range (1,10)\n",
    "for i in range(1,10):\n",
    "    for j in range(1,9):\n",
    "        print (i*j,end='  ')\n",
    "        print (i*9,end='\\n')\"\"\"\n",
    "\n",
    "#성공\n",
    "numbers=range (1,10)\n",
    "for i in range(1,10):\n",
    "    for j in range(1,9):\n",
    "        print (i*j,end='  ')\n",
    "    print (i*9)\n",
    "\n",
    "\n",
    "\n",
    "    \n",
    "    \n",
    "#1 2 3 4 5 6 7 8 9 \n",
    "#2 4 6 8 10 12 14 16 18\n",
    "#3 6 9 12 15"
   ]
  },
  {
   "cell_type": "code",
   "execution_count": 114,
   "metadata": {
    "scrolled": false
   },
   "outputs": [
    {
     "name": "stdout",
     "output_type": "stream",
     "text": [
      "                  ☆\n",
      "                   *  \n",
      "                 *   *  \n",
      "               *   *   *  \n",
      "             *   *   *   *  \n",
      "           *   *   *   *   *  \n",
      "         *   *   *   *   *   *  \n",
      "       *   *   *   *   *   *   *  \n",
      "     *   *   *   *   *   *   *   *  \n",
      "   *   *   *   *   *   *   *   *   *  \n",
      "                    *  *  *  *  *  *  *  *  *  *  "
     ]
    }
   ],
   "source": [
    "# 삼각형 입력으로 h가 들어오면 그에 상응하는 세모를 만드시오\n",
    " \n",
    "# height=int(input())\n",
    "# for i in range (0,height):\n",
    "#     print ('*' * i ,end=' ')\n",
    "    \n",
    "\n",
    "height=10\n",
    "for i in range (height):\n",
    "    if i==0:\n",
    "        print ('  ' * (height-i-1) + '☆')\n",
    "    else:\n",
    "        print('  ' *(height-i) + ' *  ' * i)\n",
    "    \n",
    "    \n",
    "\n",
    "            \n",
    "    #답\n",
    "n=10\n",
    "for i in range (n):\n",
    "    print('* ', end=' ')\n",
    "\n"
   ]
  },
  {
   "cell_type": "markdown",
   "metadata": {
    "slideshow": {
     "slide_type": "slide"
    }
   },
   "source": [
    "### index와 함께 `for`문 활용하기\n",
    "\n",
    "`enumerate()`를 활용하면, 추가적인 변수를 활용할 수 있다."
   ]
  },
  {
   "cell_type": "code",
   "execution_count": null,
   "metadata": {},
   "outputs": [],
   "source": [
    "#1부터 100까지 자연수중 5의 배수들의 총합을 구하시오\n",
    "fivebesu=[]\n",
    "for i in range(1,101):\n",
    "    if i % 5==0:\n",
    "        fivebesu.append(i)\n",
    "#sum=0 \n",
    "sum1=0\n",
    "for i in fivebesu:\n",
    "#    sum+=i\n",
    "    sum1+=i\n",
    "print (sum1)\n",
    "\n",
    "#알고리즘으로 풀자! 5*1+ 5*2 +5*3 이니까 아래처럼 해\n",
    "n=20\n",
    "result=n*(n+1)/2\n",
    "print (result*5)"
   ]
  },
  {
   "cell_type": "markdown",
   "metadata": {
    "slideshow": {
     "slide_type": "subslide"
    }
   },
   "source": [
    "* `enumerate()`는 [파이썬 표준 라이브러리의 내장함수](https://docs.python.org/ko/3.6/library/functions.html) 중 하나이며, 다음과 같이 구성되어 있다.\n",
    "\n",
    "<center>\n",
    "    <img src=\"./images/02/enumerate.png\", alt=\"enumerate\">\n",
    "</center>"
   ]
  },
  {
   "cell_type": "code",
   "execution_count": null,
   "metadata": {},
   "outputs": [],
   "source": [
    "lunches = ['생선까스','복어해장국','비엔나 소세지']\n",
    "for index , lunch in enumerate (lunches):\n",
    "    print (index, lunch)"
   ]
  },
  {
   "cell_type": "code",
   "execution_count": null,
   "metadata": {},
   "outputs": [],
   "source": [
    "mate=['marco','siho','baek']\n",
    "list (enumerate(mate))"
   ]
  },
  {
   "cell_type": "code",
   "execution_count": null,
   "metadata": {},
   "outputs": [],
   "source": [
    "list ( enumerate (mate, start=1))"
   ]
  },
  {
   "cell_type": "markdown",
   "metadata": {
    "slideshow": {
     "slide_type": "subslide"
    }
   },
   "source": [
    "### dictionary 반복문 활용하기\n",
    "\n",
    "기본적으로 dictionary를 `for`문을 시행시키면 다음과 같이 시행됩니다."
   ]
  },
  {
   "cell_type": "code",
   "execution_count": null,
   "metadata": {},
   "outputs": [],
   "source": [
    "classroom={'teacher':'Yu', 'leader':'hwang', 'ca':'gang'}\n",
    "for value in classroom.values():\n",
    "    print (value)"
   ]
  },
  {
   "cell_type": "markdown",
   "metadata": {
    "slideshow": {
     "slide_type": "subslide"
    }
   },
   "source": [
    "dictionary의 `key`를 출력함으로써 `value`에도 접근할 수 있기 때문입니다.\n",
    "\n",
    "따라서 dictionary의 value를 출력하기 위해서는 아래와 같이 작성합니다."
   ]
  },
  {
   "cell_type": "code",
   "execution_count": null,
   "metadata": {},
   "outputs": [],
   "source": [
    "for role in classroom:\n",
    "    print (classroom[role])"
   ]
  },
  {
   "cell_type": "markdown",
   "metadata": {
    "slideshow": {
     "slide_type": "subslide"
    }
   },
   "source": [
    "* dictionary에서 `for` 활용하는 4가지 방법\n",
    "\n",
    "```python\n",
    "# 0. dictionary (key 반복)\n",
    "for key in dict:\n",
    "    print(key)\n",
    "\n",
    "# 1. key 반복\n",
    "for key in dict.keys():\n",
    "    print(key)\n",
    "    \n",
    "# 2. value 반복    \n",
    "for val in dict.values():\n",
    "    print(val)\n",
    "\n",
    "# 3. key와 value 반복\n",
    "for key, val in dict.items():\n",
    "    print(key, val)\n",
    "\n",
    "```"
   ]
  },
  {
   "cell_type": "markdown",
   "metadata": {
    "slideshow": {
     "slide_type": "subslide"
    }
   },
   "source": [
    "### 실습문제 \n",
    "\n",
    "> 한번 직접 4가지 반복문을 활용해보고 출력되는 결과를 확인해보세요.\n",
    "\n",
    "```\n",
    "classroom = {\"teacher\": \"Kim\", \"student1\": \"Hong\", \"student2\": \"Kang\"}\n",
    "\n",
    "```"
   ]
  },
  {
   "cell_type": "code",
   "execution_count": null,
   "metadata": {},
   "outputs": [],
   "source": [
    "#input => 100 달러, 300 유로, 200 위안, 1000엔\n",
    "#원화로 계산해서 print 해주자\n",
    "\n",
    "# def calculator(**kwargs):\n",
    "#     currency = {\n",
    "#     'USD' : 1167,\n",
    "#     'JPY' : 1.096,\n",
    "#     'EUR' : 1268,\n",
    "#     'CNY' : 171\n",
    "#     }\n",
    "#     if '달러' in kwargs.keys():\n",
    "#         kwargs['달러'] *= currency['USD']\n",
    "#     if '엔' in kwargs.keys():\n",
    "#         kwargs['엔'] *= currency['JPY']\n",
    "#     if '유로' in kwargs.keys():\n",
    "#         kwargs['유로'] *= currency['EUR']\n",
    "#     if '위안' in kwargs.keys():\n",
    "#         kwargs['위안'] *= currency['CNY']\n",
    "#     return kwargs\n",
    "\n",
    "# calculator(달러=100, 엔=20, 유로=123, 위안=1234)\n",
    "\n",
    "# calculator(달러=100, 엔=20, 유로=123, 위안=1234)\n",
    "\n",
    "# def calculator(**kwargs):\n",
    "#     currency = {\n",
    "#     'USD' : 1167,\n",
    "#     'JPY' : 1.096,\n",
    "#     'EUR' : 1268,\n",
    "#     'CNY' : 171\n",
    "#     }\n",
    "#     currencies=['달러','엔','유로','위안']\n",
    "#     for  i in currencies:\n",
    "#         n=0\n",
    "#         if i in kwargs.keys():\n",
    "#             kwargs['i'] *= currency['n']\n",
    "#             n+=1\n",
    "#         else:\n",
    "#             n+=1\n",
    "#     return kwargs\n",
    "\n",
    "# input => 100 달러, 300 유로, 200 위안, 1000엔\n",
    "# 원화로 계산해서 print 해주자\n",
    "\n",
    "user_input = input ('volume & unit: ')\n",
    "\n",
    "volume = int(user_input[0])\n",
    "unit = user_input[1]\n",
    "\n",
    "def calculator(**kwargs):\n",
    "    currency = {\n",
    "    'USD' : 1167,\n",
    "    'JPY' : 1.096,\n",
    "    'EUR' : 1268,\n",
    "    'CNY' : 171\n",
    "    }\n",
    "    unit_currency={\n",
    "        '달러':'USD',\n",
    "        '엔':'JPY',\n",
    "        '유로':'EUR',\n",
    "        '위안':'CNY'\n",
    "    }\n",
    "    symbol=unit_currency[unit]\n",
    "    return volume* currency[unit_currency[symbol]]\n",
    "\n",
    "calculator()\n",
    "\n"
   ]
  },
  {
   "cell_type": "code",
   "execution_count": null,
   "metadata": {
    "scrolled": true
   },
   "outputs": [],
   "source": [
    "# 여기에 코드를 작성하세요.\n",
    "classroom= {\"teacher\":\"kim\", \"student1\":\"Hong\",\"student2\":\"kang\"}\n",
    "for key in classroom:\n",
    "    print(key)\n",
    "for key in classroom.keys():\n",
    "    print(key)\n",
    "for value in classroom.values():\n",
    "    print(value)\n",
    "for key,value in classroom.items():\n",
    "    print (key, value)\n"
   ]
  },
  {
   "cell_type": "markdown",
   "metadata": {
    "slideshow": {
     "slide_type": "slide"
    }
   },
   "source": [
    "## `break`, `continue`, `else`\n",
    "\n",
    "### `break`\n",
    "\n",
    "`break`문은 반복문을 종료하는 표현입니다. "
   ]
  },
  {
   "cell_type": "code",
   "execution_count": null,
   "metadata": {},
   "outputs": [],
   "source": [
    "for i in range (1,10):\n",
    "    if i ==6:\n",
    "        break\n",
    "    print (i)"
   ]
  },
  {
   "cell_type": "markdown",
   "metadata": {
    "slideshow": {
     "slide_type": "subslide"
    }
   },
   "source": [
    "#### 실습문제\n",
    "\n",
    "> 조건문과 반복문, break를 통해서 아래의 코드와 동일한 코드를 작성하세요.\n",
    "> \n",
    "> (3이 있을 경우 True를 print하고, 아닐 경우 False를 print 합니다.)\n",
    "\n",
    "\n",
    "```python\n",
    "numbers = [1, 5, 10]\n",
    "print(3 in numbers)\n",
    "```\n",
    "\n",
    "---\n",
    "```\n",
    "예시 출력)\n",
    "False\n",
    "```"
   ]
  },
  {
   "cell_type": "code",
   "execution_count": null,
   "metadata": {
    "scrolled": true
   },
   "outputs": [],
   "source": [
    "numbers = [1, 5, 10]\n",
    "# 여기에 코드를 작성하세요.\n",
    "if 3 in numbers:\n",
    "    print ('True')\n",
    "else:\n",
    "    print ('False')\n",
    "    \n",
    "print('True') if 3 in numbers else print ('False')\n",
    "\n",
    "result = False\n",
    "for number in numbers:\n",
    "    if number == 3:\n",
    "        result = True\n",
    "        break\n",
    "print (result)"
   ]
  },
  {
   "cell_type": "markdown",
   "metadata": {
    "slideshow": {
     "slide_type": "subslide"
    }
   },
   "source": [
    "### `continue` \n",
    "\n",
    "`continue`문은 continue 이후의 코드를 수행하지 않고 다음 요소를 선택해 반복을 계속 수행합니다."
   ]
  },
  {
   "cell_type": "code",
   "execution_count": null,
   "metadata": {},
   "outputs": [],
   "source": [
    "for i in range (6):\n",
    "    if i % 2 == 0:\n",
    "        continue\n",
    "    print (f'{i} is odd number')\n",
    "        "
   ]
  },
  {
   "cell_type": "markdown",
   "metadata": {
    "slideshow": {
     "slide_type": "subslide"
    }
   },
   "source": [
    "### `else`\n",
    "\n",
    "`else`문은 끝까지 반복문을 시행한 이후에 실행됩니다.\n",
    "\n",
    "(`break`를 통해 중간에 종료되지 않은 경우만 실행)"
   ]
  },
  {
   "cell_type": "code",
   "execution_count": null,
   "metadata": {},
   "outputs": [],
   "source": [
    "for i in range(7):\n",
    "    if i ==3:\n",
    "        print(f'{i}에서 break 실행됨')\n",
    "        break\n",
    "else:\n",
    "        print ('break 안걸림')"
   ]
  },
  {
   "cell_type": "markdown",
   "metadata": {},
   "source": [
    "problem set"
   ]
  },
  {
   "cell_type": "code",
   "execution_count": 2,
   "metadata": {
    "scrolled": true
   },
   "outputs": [
    {
     "name": "stdout",
     "output_type": "stream",
     "text": [
      "['green', 'blue', 'white']\n",
      "['green', 'blue', 'white']\n",
      "['green', 'blue', 'white']\n"
     ]
    }
   ],
   "source": [
    "# 'colors' = ['red', 'green', 'blue', 'white', 'black', 'gold'] 다음리스트에서  0,4,5 index를 삭제한 리스트를 만드시오\n",
    "\n",
    "colors= ['red', 'green', 'blue', 'white', 'black', 'gold'] \n",
    "colors.remove('red')\n",
    "colors.remove('black')\n",
    "colors.remove('gold')\n",
    "print (colors)\n",
    "\n",
    "#답\n",
    "colors= ['red', 'green', 'blue', 'white', 'black', 'gold'] \n",
    "delete_index = [0,4,5]\n",
    "remain_colors=[ ]\n",
    "\n",
    "for index, color in enumerate (colors):\n",
    "    if index not in delete_index:\n",
    "        remain_colors.append(color)\n",
    "        \n",
    "print(remain_colors)\n",
    "\n",
    "remain_colors = []\n",
    "\n",
    "for color in colors:\n",
    "    if colors.index(color) not in (0, 4,  5):\n",
    "        remain_colors.append(color)\n",
    "        \n",
    "print(remain_colors)"
   ]
  },
  {
   "cell_type": "markdown",
   "metadata": {},
   "source": [
    "달력 출력하기\n",
    "1월부터 12월까지 다음과 같은 형태로 달력을 출력하세요\n",
    "\n",
    "1월\n",
    "일  월   화  수   목  금   토\n",
    " 1    2    3    4    5    6    7\n",
    " 8    9   10  11  12  13  14\n",
    "15  16  17  18  19  20  21"
   ]
  },
  {
   "cell_type": "code",
   "execution_count": 3,
   "metadata": {},
   "outputs": [
    {
     "name": "stdout",
     "output_type": "stream",
     "text": [
      "                  ☆\n",
      "                   *  \n",
      "                 *   *  \n",
      "               *   *   *  \n",
      "             *   *   *   *  \n",
      "           *   *   *   *   *  \n",
      "         *   *   *   *   *   *  \n",
      "       *   *   *   *   *   *   *  \n",
      "     *   *   *   *   *   *   *   *  \n",
      "   *   *   *   *   *   *   *   *   *  \n",
      "8 9 10 11 12 13 14 \n",
      "15 16 17 18 19 20 21 \n",
      "22 23 24 25 26 27 28 \n",
      "29 30 31 32 33 34 35 \n"
     ]
    }
   ],
   "source": [
    "height=10\n",
    "for i in range(height):\n",
    "    if i==0:\n",
    "        print ('  ' * (height-i-1) + '☆')\n",
    "    else:\n",
    "        print('  ' *(height-i) + ' *  ' * i)\n",
    "\n",
    "# numbers=range (1,10)\n",
    "# for i in range(1,10):\n",
    "#     for j in range(1,9):\n",
    "#         print (i*j,end='  ')\n",
    "#     print (i*9)\n",
    "        \n",
    "monthly={\n",
    "'janvier':31,\n",
    "'fevrier':28,\n",
    "'mars' : 31,\n",
    "'avril' : 30,\n",
    "'mai' : 31,\n",
    "'juin' : 30,\n",
    "'juillet' : 31,\n",
    "'aout' : 31,\n",
    "'septembre': 30,\n",
    "'octobre' : 31,\n",
    "'novembre': 30,\n",
    "'decembre': 31\n",
    "}\n",
    "\n",
    "for i in range (1,5):\n",
    "    for j in range(1,8):\n",
    "        print(i*7+j, end=' ')\n",
    "    print()"
   ]
  }
 ],
 "metadata": {
  "celltoolbar": "Slideshow",
  "kernelspec": {
   "display_name": "Python 3",
   "language": "python",
   "name": "python3"
  },
  "language_info": {
   "codemirror_mode": {
    "name": "ipython",
    "version": 3
   },
   "file_extension": ".py",
   "mimetype": "text/x-python",
   "name": "python",
   "nbconvert_exporter": "python",
   "pygments_lexer": "ipython3",
   "version": "3.6.7"
  },
  "toc": {
   "base_numbering": 1,
   "nav_menu": {},
   "number_sections": true,
   "sideBar": true,
   "skip_h1_title": false,
   "title_cell": "Table of Contents",
   "title_sidebar": "Contents",
   "toc_cell": false,
   "toc_position": {},
   "toc_section_display": true,
   "toc_window_display": false
  }
 },
 "nbformat": 4,
 "nbformat_minor": 2
}
