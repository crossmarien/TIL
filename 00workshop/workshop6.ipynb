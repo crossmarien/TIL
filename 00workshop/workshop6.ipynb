{
 "cells": [
  {
   "cell_type": "code",
   "execution_count": 1,
   "metadata": {},
   "outputs": [
    {
     "name": "stdout",
     "output_type": "stream",
     "text": [
      "알파고가 13번 계산하기론..2의 제곱근은 1.414에요 >.<\n"
     ]
    }
   ],
   "source": [
    "# 제곱근 bisection으로 찾고 몇번만에 찾았는지 print 하기\n",
    "def racinecarre (num, num1=0, num2=0, count=1):\n",
    "    if num2 == 0:\n",
    "        while num > num2 ** 2:\n",
    "            num2 += 1\n",
    "            num1 = num2 - 1\n",
    "    if num == num2 ** 2:\n",
    "        return (f'알파고가 {count}번 계산하기론..{num}의 제곱근은 {num2}에요 >.<')\n",
    "    if round(num1, 3)==round (num2, 3):\n",
    "        num2=round(num2, 3)\n",
    "        return (f'알파고가 {count}번 계산하기론..{num}의 제곱근은 {num2}에요 >.<')\n",
    "    if (num1**2+num2**2) / 2 < num :\n",
    "        num1 = (num1 + num2)/2\n",
    "        count += 1\n",
    "        return racinecarre(num, num1, num2, count)\n",
    "    elif (num1**2+num2**2) / 2 > num :\n",
    "        num2 = (num1 + num2)/2\n",
    "        count += 1\n",
    "        return racinecarre(num, num1, num2, count)\n",
    "            \n",
    "print(racinecarre(2))"
   ]
  }
 ],
 "metadata": {
  "kernelspec": {
   "display_name": "Python 3",
   "language": "python",
   "name": "python3"
  },
  "language_info": {
   "codemirror_mode": {
    "name": "ipython",
    "version": 3
   },
   "file_extension": ".py",
   "mimetype": "text/x-python",
   "name": "python",
   "nbconvert_exporter": "python",
   "pygments_lexer": "ipython3",
   "version": "3.6.7"
  }
 },
 "nbformat": 4,
 "nbformat_minor": 2
}
