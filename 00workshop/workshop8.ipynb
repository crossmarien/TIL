{
 "cells": [
  {
   "cell_type": "code",
   "execution_count": null,
   "metadata": {},
   "outputs": [],
   "source": [
    "from flask import Flask\n",
    "app = Flask(__name__)\n",
    "\n",
    "@app.route('/dictionary/<string:word>')\n",
    "def dictionary(word):\n",
    "    dictionary={\n",
    "        'apple':'사과',\n",
    "        'banana':'바나나',\n",
    "        'watermelon':'수박'\n",
    "    }\n",
    "    if word in dictionary.keys():\n",
    "        translatedword=dictionary[word]\n",
    "        return (f'{word} 은(는) {translatedword}!' )\n",
    "    else: \n",
    "        return (f'{word}은(는) 나만의 단어장에 없는 단어입니다!')\n",
    "    \n",
    "app.run(debug=True)"
   ]
  }
 ],
 "metadata": {
  "kernelspec": {
   "display_name": "Python 3",
   "language": "python",
   "name": "python3"
  },
  "language_info": {
   "codemirror_mode": {
    "name": "ipython",
    "version": 3
   },
   "file_extension": ".py",
   "mimetype": "text/x-python",
   "name": "python",
   "nbconvert_exporter": "python",
   "pygments_lexer": "ipython3",
   "version": "3.6.7"
  }
 },
 "nbformat": 4,
 "nbformat_minor": 2
}
