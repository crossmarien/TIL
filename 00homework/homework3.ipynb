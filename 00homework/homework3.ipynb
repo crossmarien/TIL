{
 "cells": [
  {
   "cell_type": "markdown",
   "metadata": {},
   "source": [
    "# CLI\n",
    "### 1번문제\n",
    "1.1 False Windows에서는 cmd, unix에서는 git등을 사용한다.\n",
    "1.2 False Unix코인을 탑승할 일이 생긴다. \n",
    "1.3 True \n",
    "1.4 True change directory 를 이용해 desktop으로 간후 touch __.py\n",
    "\n",
    "### 2번문제\n",
    "2.1 ls는 현재 폴도안의 자료들을 출력한다.\n",
    "2.2 cd는 change directory로 폴더를 이동할때 사용한다.\n",
    "2.3 mkdir는 make directory로 폴더를 생성한다.\n",
    "2.4 touch는 파일을 생성합니다.\n",
    "\n",
    "### 3번문제\n",
    "tab키를 이용하면 자료이름을 다 입력할 필요없이 폴더안에 자료가 있다면 이름을 자동완성해줍니다.\n"
   ]
  }
 ],
 "metadata": {
  "kernelspec": {
   "display_name": "Python 3",
   "language": "python",
   "name": "python3"
  },
  "language_info": {
   "codemirror_mode": {
    "name": "ipython",
    "version": 3
   },
   "file_extension": ".py",
   "mimetype": "text/x-python",
   "name": "python",
   "nbconvert_exporter": "python",
   "pygments_lexer": "ipython3",
   "version": "3.6.7"
  }
 },
 "nbformat": 4,
 "nbformat_minor": 2
}
