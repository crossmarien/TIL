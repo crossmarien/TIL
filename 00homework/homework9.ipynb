{
 "cells": [
  {
   "cell_type": "markdown",
   "metadata": {},
   "source": [
    "1.HTML은 Hyper Text Markup Language\n",
    "\n",
    "2.\n",
    "*False :mozilla가아니라 worldwideweb consortium이다.\n",
    "\n",
    "*False: th는 table head로 필요없다면 쓸 필요가 없다.\n",
    "\n",
    "*True\n",
    "\n",
    "*True\n",
    "\n",
    "3. article,  footer, nav\n",
    "\n",
    "4. \n",
    "\n",
    "<input name=\"user\" type=\"text\" placeholder=\"user\">\n",
    "<input name=\"password\" type=\"text\" placeholder= ****>\n",
    "<input type=\"submit\" value=\"로그인\">\n"
   ]
  },
  {
   "cell_type": "code",
   "execution_count": null,
   "metadata": {},
   "outputs": [],
   "source": []
  }
 ],
 "metadata": {
  "kernelspec": {
   "display_name": "Python 3",
   "language": "python",
   "name": "python3"
  },
  "language_info": {
   "codemirror_mode": {
    "name": "ipython",
    "version": 3
   },
   "file_extension": ".py",
   "mimetype": "text/x-python",
   "name": "python",
   "nbconvert_exporter": "python",
   "pygments_lexer": "ipython3",
   "version": "3.6.7"
  }
 },
 "nbformat": 4,
 "nbformat_minor": 2
}
