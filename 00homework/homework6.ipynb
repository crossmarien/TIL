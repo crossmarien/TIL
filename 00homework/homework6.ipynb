{
 "cells": [
  {
   "cell_type": "code",
   "execution_count": null,
   "metadata": {},
   "outputs": [],
   "source": [
    "#1번\n",
    "list()\n",
    "int()\n",
    "str()\n",
    "float()\n",
    "set()\n",
    "sorted([])"
   ]
  },
  {
   "cell_type": "markdown",
   "metadata": {},
   "source": [
    "## 2번\n",
    "1.True:   return a,b를 하면 튜플로 (a,b)가나온다.\n",
    "2. FALSE:  출력값이 없으면 아무값도 반환하지 않는다. 단 print를 쓰면 none을 반환한다.\n",
    "3.True\n",
    "4.True\n",
    "5.True"
   ]
  },
  {
   "cell_type": "code",
   "execution_count": 12,
   "metadata": {},
   "outputs": [
    {
     "data": {
      "text/plain": [
       "5"
      ]
     },
     "execution_count": 12,
     "metadata": {},
     "output_type": "execute_result"
    }
   ],
   "source": [
    "def my_mul(*args):\n",
    "    n=1\n",
    "    for i in args:\n",
    "       n *= i\n",
    "    return n\n",
    "    \n",
    "my_mul(2,3,4,5)\n",
    "my_mul(5)"
   ]
  }
 ],
 "metadata": {
  "kernelspec": {
   "display_name": "Python 3",
   "language": "python",
   "name": "python3"
  },
  "language_info": {
   "codemirror_mode": {
    "name": "ipython",
    "version": 3
   },
   "file_extension": ".py",
   "mimetype": "text/x-python",
   "name": "python",
   "nbconvert_exporter": "python",
   "pygments_lexer": "ipython3",
   "version": "3.6.7"
  }
 },
 "nbformat": 4,
 "nbformat_minor": 2
}
