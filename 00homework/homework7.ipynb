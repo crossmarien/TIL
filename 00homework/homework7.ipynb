{
 "cells": [
  {
   "cell_type": "code",
   "execution_count": null,
   "metadata": {},
   "outputs": [],
   "source": [
    "int\n",
    "str\n",
    "list\n",
    "tuple\n",
    "set\n",
    "\n"
   ]
  },
  {
   "cell_type": "markdown",
   "metadata": {},
   "source": [
    "5번 5는 int class에 속해있다."
   ]
  },
  {
   "cell_type": "code",
   "execution_count": 34,
   "metadata": {},
   "outputs": [
    {
     "name": "stdout",
     "output_type": "stream",
     "text": [
      " '안녕하세요. 둘리입니다. 0살입니다.' \n",
      " '안녕하세요. 홍길동입니다. 20살입니다.' \n"
     ]
    }
   ],
   "source": [
    "class Person:\n",
    "    def __init__(self, name, age=0):\n",
    "        self.name = name\n",
    "        self.age = age\n",
    "    \n",
    "    def greeting(self):\n",
    "        print (f' \\'안녕하세요. {self.name}입니다. {self.age}살입니다.\\' ')\n",
    "        \n",
    "p1=Person ('홍길동', 20)\n",
    "p2=Person('둘리')\n",
    "p2.greeting()\n",
    "p1.greeting()\n",
    "    "
   ]
  }
 ],
 "metadata": {
  "kernelspec": {
   "display_name": "Python 3",
   "language": "python",
   "name": "python3"
  },
  "language_info": {
   "codemirror_mode": {
    "name": "ipython",
    "version": 3
   },
   "file_extension": ".py",
   "mimetype": "text/x-python",
   "name": "python",
   "nbconvert_exporter": "python",
   "pygments_lexer": "ipython3",
   "version": "3.6.7"
  }
 },
 "nbformat": 4,
 "nbformat_minor": 2
}
